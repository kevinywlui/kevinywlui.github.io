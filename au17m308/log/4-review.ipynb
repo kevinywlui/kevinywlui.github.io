{
 "cells": [
  {
   "cell_type": "markdown",
   "metadata": {
    "collapsed": false
   },
   "source": [
    "# Chapter 4 Review"
   ]
  },
  {
   "cell_type": "markdown",
   "metadata": {
    "collapsed": false
   },
   "source": [
    "**Theorem:** Let $S=\\{a_1,\\ldots,a_m\\}$ be a set of vectors of $\\mathbb{R}^n$. Let $A=[a_1\\; \\ldots \\; a_n]$ be a matrix and $T:\\mathbb{R}^m \\to\\mathbb{R}^n$ be the linear transform defined by $T(x)=Ax$. Let $B$ be an echelon form of $A$. Then the following objects are equal:\n",
    "\n",
    "\n",
    "* The set of vectors killed by $T$,\n",
    "* $\\{x:Ax=0\\}$ (this is the set of homogeneous solutions to $A$),\n",
    "* null($A$),\n",
    "* $\\{x:T(x)=0\\}$,\n",
    "* ker($T$),\n",
    "* number of rows of all zeros in $B$,\n",
    "\n",
    "---\n",
    "\n",
    "* The set of vectors hit by $T$,\n",
    "* $\\{T(x): x\\in \\mathbb{R}^n\\}$,\n",
    "* range($T$),\n",
    "* col($A$),\n",
    "* span($S$),\n",
    "\n",
    "---\n",
    "\n",
    "* dim(col($A$)),\n",
    "* dim(range($T$)),\n",
    "* dim(span($S$)),\n",
    "* $m$ - nullity($A$) (rank-nullity theorem),\n",
    "* $m$ - dim(ker($T$)),\n",
    "* dim(row($A$)), (think of this as maximal number of linear independent equations in $Ax=0$),\n",
    "* number of pivots in $B$,\n"
   ]
  },
  {
   "cell_type": "markdown",
   "metadata": {
    "collapsed": false
   },
   "source": [
    "**Example:** Let $T(x)=Ax$, where $A$ is\n",
    "\n",
    "$\\begin{bmatrix}\n",
    "1 & 2 & 0 & 2 \\\\\n",
    "-2 & -4 & 1 & -3 \\\\\n",
    "1 & 2 & 2 & 4\n",
    "\\end{bmatrix}$\n",
    "\n",
    "and has reduce echelon form $B$ given by\n",
    "\n",
    "$\\begin{bmatrix}\n",
    "1 & 2 & 0 & 2 \\\\\n",
    "0 & 0 & 1 & 1 \\\\\n",
    "0 & 0 & 0 & 0\n",
    "\\end{bmatrix}$\n",
    "\n",
    "* What is the range of $T$?\n",
    "* What is the kernel of $T$?\n",
    "* What is the row space of $A$?\n",
    "* What is the rank of $A$?\n",
    "* What is the nullity of $A$?\n",
    "* Write the columns corresponding the free variables as a linear combination of the pivot columns.\n",
    "* What is the general solution to $Ax=0$?\n",
    "* What is the general solution to $Ax=[2-3,4]^t$?\n",
    "* What is a vector not in the range of $T$?"
   ]
  },
  {
   "cell_type": "markdown",
   "metadata": {
    "collapsed": false
   },
   "source": [
    "**Example:** Answer all the same questions as above but for an invertible transform."
   ]
  },
  {
   "cell_type": "markdown",
   "metadata": {
    "collapsed": false
   },
   "source": [
    "**Example:** Give an example of a linear transform $T:\\mathbb{R}^3 \\to \\mathbb{R}^2$ such that $T(1,1,0)=(1,0)$ and $T(0,1,2)=(1,2)$.\n",
    "\n",
    "* What is the smallest possible rank such an example could be?\n",
    "* What is the largest possible rank such an example could be?\n",
    "* What is the smallest possible nullity such an example could be?\n",
    "* What is the largest possible nullity such an example could be?"
   ]
  }
 ],
 "metadata": {
  "kernelspec": {
   "display_name": "SageMath 8.0",
   "name": "sage-8.0"
  },
  "language_info": {
   "codemirror_mode": {
    "name": "ipython",
    "version": 2
   },
   "file_extension": ".py",
   "mimetype": "text/x-python",
   "name": "python",
   "nbconvert_exporter": "python",
   "pygments_lexer": "ipython2",
   "version": "2.7.13"
  }
 },
 "nbformat": 4,
 "nbformat_minor": 0
}