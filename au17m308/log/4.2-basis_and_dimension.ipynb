{
 "cells": [
  {
   "cell_type": "markdown",
   "metadata": {
    "collapsed": false
   },
   "source": [
    "# Basis and Dimension Round 2"
   ]
  },
  {
   "cell_type": "markdown",
   "metadata": {
    "collapsed": false
   },
   "source": [
    "**Definition**: A set $B=\\{u_1,\\ldots,u_m\\}$ is a *basis* for a subspace $S$ if\n",
    "\n",
    "* $B$ spans $S$,\n",
    "* $B$ is linearly independent"
   ]
  },
  {
   "cell_type": "markdown",
   "metadata": {
    "collapsed": false
   },
   "source": [
    "**Theorem:** Let $B=\\{u_1,\\ldots,u_m\\}$ be a basis for a subspace $S$. Then every $s\\in S$ can be written as a linear combination of $u_1,\\ldots,u_m$ in a unique way."
   ]
  },
  {
   "cell_type": "markdown",
   "metadata": {
    "collapsed": false
   },
   "source": [
    "**Example:** We'll use the same subspace as last time. Let $S\\subseteq \\mathbb{R}^4$ be the subspace spanned by $u_1=(-1,2,3,1), u_2=(-6,7,5,2), u_3=(4,-3,1,0)$. From last class, we determined that a basis for $S$ is given by $\\{v_1,v_2\\}$ where $v_1=(-1,2,3,1),v_2=(0,5,13,4)$. It is clear that $u_3\\in S$. How do we express $u_3$ as a linear combination of $v_1,v_2$? This amounts to solving $[v_1,\\; v_2 | u_3]$."
   ]
  },
  {
   "cell_type": "code",
   "execution_count": 9,
   "metadata": {
    "collapsed": false
   },
   "outputs": [
    {
     "data": {
      "text/plain": [
       "(\n",
       "[-1  0]               \n",
       "[ 2  5]               \n",
       "[ 3 13]               \n",
       "[ 1  4], (4, -3, 1, 0)\n",
       ")"
      ]
     },
     "execution_count": 9,
     "metadata": {
     },
     "output_type": "execute_result"
    }
   ],
   "source": [
    "v1 = vector([-1,2,3,1])\n",
    "v2 = vector([0,5,13,4])\n",
    "u3 = vector([4,-3,1,0])\n",
    "A = matrix([v1,v2]).transpose()\n",
    "A, u3"
   ]
  },
  {
   "cell_type": "code",
   "execution_count": 10,
   "metadata": {
    "collapsed": false
   },
   "outputs": [
    {
     "data": {
      "text/plain": [
       "(-4, 1)"
      ]
     },
     "execution_count": 10,
     "metadata": {
     },
     "output_type": "execute_result"
    }
   ],
   "source": [
    "A \\ u3"
   ]
  },
  {
   "cell_type": "markdown",
   "metadata": {
    "collapsed": false
   },
   "source": [
    "Most sets of $n$ vectors in $\\mathbb{R}^n$ are a basis."
   ]
  },
  {
   "cell_type": "markdown",
   "metadata": {
    "collapsed": true
   },
   "source": [
    "**Example:** Take $S$ as before with basis $B=\\{v_1,v_2\\}$. How can we extend $B$ to be a basis for $\\mathbb{R}^n$?\n",
    "\n",
    "* Eyeball it\n",
    "* Add 2 random vectors\n",
    "\n",
    "In this case, we see that $\\{v_1,v_2,e_1,e_2\\}$ will form a basis for $\\mathbb{R}^4$. But so will $\\{v_1,v_2,(-213,\\pi,4,2),(4,\\pi^2,3,4)\\}$."
   ]
  }
 ],
 "metadata": {
  "kernelspec": {
   "display_name": "SageMath 8.0",
   "name": "sage-8.0"
  },
  "language_info": {
   "codemirror_mode": {
    "name": "ipython",
    "version": 2
   },
   "file_extension": ".py",
   "mimetype": "text/x-python",
   "name": "python",
   "nbconvert_exporter": "python",
   "pygments_lexer": "ipython2",
   "version": "2.7.13"
  }
 },
 "nbformat": 4,
 "nbformat_minor": 0
}