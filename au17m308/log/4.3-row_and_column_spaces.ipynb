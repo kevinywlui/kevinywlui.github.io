{
 "cells": [
  {
   "cell_type": "markdown",
   "metadata": {
    "collapsed": false
   },
   "source": [
    "# Row and column spaces"
   ]
  },
  {
   "cell_type": "markdown",
   "metadata": {
    "collapsed": false
   },
   "source": [
    "**Definition**: Let $A$ be $n\\times m$ matrix. Then \n",
    "\n",
    "* The **row space**, denoted $row(A)$, of $A$ is the subspace of $\\mathbb{R}^m$ given by the span of the rows of $A$.\n",
    "* The **column space**, denoted $col(A)$, of $A$ is the subspace of $\\mathbb{R}^n$ given by the span of the columns of $A$."
   ]
  },
  {
   "cell_type": "markdown",
   "metadata": {
    "collapsed": false
   },
   "source": [
    "**Theorem:** Let $A$ be a matrix and $B$ an echelon form of $A$.\n",
    "\n",
    "* The nonzero rows of $B$ form a basis for $row(A)$.\n",
    "* The columns of $A$ corresponding to the pivot columns of $B$ form a basis for $col(A)$.\n",
    "\n",
    "Consequently, the dimension of the row space and the columns space of $A$ are the same. We call this the rank of $A$, denoted $rank(A)$."
   ]
  },
  {
   "cell_type": "markdown",
   "metadata": {
    "collapsed": false
   },
   "source": [
    "**Example:** Let $A$ be\n",
    "$$\\begin{bmatrix}\n",
    "1 & 2 & 3 & 4 \\\\\n",
    "3 & -1 & 2 & 1 \\\\\n",
    "5 & 0 & 1 & -1\n",
    "\\end{bmatrix}$$\n",
    "Find a basis for the row space. Find a basis for the column space. Determine the rank of $A$."
   ]
  },
  {
   "cell_type": "code",
   "execution_count": 5,
   "metadata": {
    "collapsed": false
   },
   "outputs": [
    {
     "data": {
      "text/plain": [
       "[     1      0      0 -13/28]\n",
       "[     0      1      0    1/4]\n",
       "[     0      0      1  37/28]"
      ]
     },
     "execution_count": 5,
     "metadata": {
     },
     "output_type": "execute_result"
    }
   ],
   "source": [
    "# We compute the rref of A and stare at it\n",
    "A = matrix([[1,2,3,4],[3,-1,2,1],[5,0,1,-1]])\n",
    "B = A.rref(); B\n",
    "# The first 3 columns of A form a basis (so does the standard basis) for the column space\n",
    "# The rows of B form a basis for the row space"
   ]
  },
  {
   "cell_type": "markdown",
   "metadata": {
    "collapsed": false
   },
   "source": [
    "**Definition:** The **nullity** of a matrix $A$, denoted $null(A)$, is the dimension of the solution space to $Ax=0$."
   ]
  },
  {
   "cell_type": "markdown",
   "metadata": {
    "collapsed": true
   },
   "source": [
    "**Example:** What is the nullity of the previous $A$? (It is 1)."
   ]
  },
  {
   "cell_type": "markdown",
   "metadata": {
    "collapsed": false
   },
   "source": [
    "**Theorem:** (Rank-Nullity Theorem) Let $A$ be a $n\\times m$ matrix. Then $rank(A)+nullity(A)=m$."
   ]
  },
  {
   "cell_type": "markdown",
   "metadata": {
    "collapsed": false
   },
   "source": [
    "## Linear transform perspective\n",
    "Let $T:\\mathbb{R}^n \\to \\mathbb{R}^m$ be a linear transform. Let $A$ be the matrix so that $T(x)=Ax$. Then $range(T)=col(A)$ so we know that hte rank of $A$ is the dimension of the range. We know that the nullity is the dimension of the kernel. So dimension of range + dimension of kernel is the dimension of the domain."
   ]
  }
 ],
 "metadata": {
  "kernelspec": {
   "display_name": "SageMath 8.0",
   "name": "sage-8.0"
  },
  "language_info": {
   "codemirror_mode": {
    "name": "ipython",
    "version": 2
   },
   "file_extension": ".py",
   "mimetype": "text/x-python",
   "name": "python",
   "nbconvert_exporter": "python",
   "pygments_lexer": "ipython2",
   "version": "2.7.13"
  }
 },
 "nbformat": 4,
 "nbformat_minor": 0
}