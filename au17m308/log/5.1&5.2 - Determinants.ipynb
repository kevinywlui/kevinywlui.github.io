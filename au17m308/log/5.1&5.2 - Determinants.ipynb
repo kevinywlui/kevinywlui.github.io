{
 "cells": [
  {
   "cell_type": "markdown",
   "metadata": {
    "collapsed": false
   },
   "source": [
    "# 5.1/5.2 - Determinants"
   ]
  },
  {
   "cell_type": "markdown",
   "metadata": {
    "collapsed": false
   },
   "source": [
    "Let $T(x):\\mathbb{R}^n\\to\\mathbb{R}^n$ be a linear transform and $A$ be the square matrix defined so that $T(x)=Ax$. Then the absolute value of the determinant of $A$, denoted det($A$), measures the change in volume under $T$. This means that if $S$ is a shape of volume V then $T(S)=\\{T(s):s\\in \\mathbb{R}^n\\}$ has volume $|\\det(A)|$V."
   ]
  },
  {
   "cell_type": "markdown",
   "metadata": {
    "collapsed": false
   },
   "source": [
    "**Definition:** For any $n\\in \\mathbb{N}$, The **determinant** is the unique function from the set of square matrices of size $n$ so the real numbers with the following 3 properties:\n",
    "\n",
    "* $\\det(I_n)=1$,\n",
    "* When viewing a square matrices as a list of $n$ column vectors, the determinant is $n$-linear. This means $\\det([a_1,\\ldots,ca_i+db_i,\\ldots,a_n])=c\\det([a_1,\\ldots,a_i,\\ldots,a_n])+d\\det([a_1,\\ldots,b_i,\\ldots,a_n])$.\n",
    "* If this there is a column of zero, then the determinant is zero.\n",
    "\n",
    "The determinant of a linear transform $T:\\mathbb{R}^n\\to\\mathbb{R}^n$ is the determinant of its associated matrix."
   ]
  },
  {
   "cell_type": "markdown",
   "metadata": {
    "collapsed": false
   },
   "source": [
    "**Properties:**\n",
    "\n",
    "* $\\det(AB)=\\det(A)\\det(B)$,\n",
    "* $\\det(A^t)=\\det(A)$,\n",
    "* If $A$ is upper (or lower) triangular, then $\\det(A)$ is the product of the diagonal,\n",
    "* $\\det(cA)=c^n\\det(A)$,\n",
    "* If $A$ has positive nullity, then $\\det(A)=0$."
   ]
  },
  {
   "cell_type": "markdown",
   "metadata": {
    "collapsed": false
   },
   "source": [
    "**Computation:** There is a thing called cofactor expansion. It is terrible but we will learn it. In practice, elimination is used. Give $n=2$ and $n=3$ shortcuts and the general cofactor formula."
   ]
  },
  {
   "cell_type": "markdown",
   "metadata": {
    "collapsed": false
   },
   "source": [
    "**Notation:** Often you denote the determinant of a matrix by replacing the square brackets by straight lines."
   ]
  },
  {
   "cell_type": "markdown",
   "metadata": {
    "collapsed": false
   },
   "source": [
    "**Examples:** Compute the determinant in the following cases:\n",
    "\n",
    "* $T(x,y)=(x+y,y)$\n",
    "* $T(x,y)=(3x+y,-y)$. Also what is the determinant of $T^{-1}$ here?\n",
    "* Here is a $3\\times 3$ example\n",
    "* Here is a $4\\times 4$ example that I won't actually work out fully"
   ]
  }
 ],
 "metadata": {
  "kernelspec": {
   "display_name": "SageMath 8.0",
   "name": "sage-8.0"
  },
  "language_info": {
   "codemirror_mode": {
    "name": "ipython",
    "version": 2
   },
   "file_extension": ".py",
   "mimetype": "text/x-python",
   "name": "python",
   "nbconvert_exporter": "python",
   "pygments_lexer": "ipython2",
   "version": "2.7.13"
  }
 },
 "nbformat": 4,
 "nbformat_minor": 0
}